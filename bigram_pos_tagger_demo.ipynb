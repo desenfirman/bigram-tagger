{
 "nbformat": 4,
 "nbformat_minor": 2,
 "metadata": {
  "language_info": {
   "name": "python",
   "codemirror_mode": {
    "name": "ipython",
    "version": 3
   },
   "version": "3.7.3-final"
  },
  "orig_nbformat": 2,
  "file_extension": ".py",
  "mimetype": "text/x-python",
  "name": "python",
  "npconvert_exporter": "python",
  "pygments_lexer": "ipython3",
  "version": 3,
  "kernelspec": {
   "name": "python3",
   "display_name": "Python 3"
  }
 },
 "cells": [
  {
   "cell_type": "markdown",
   "execution_count": null,
   "metadata": {},
   "outputs": [],
   "source": [
    "# Bahasa Indonesia Bigram Pos-Tagger\n",
    "\n",
    "## Import required packages\n",
    "\n",
    "This jupyter notebook use a custom bigram module from this repos and pandas module for dataframe visualization"
   ]
  },
  {
   "cell_type": "code",
   "execution_count": 1,
   "metadata": {},
   "outputs": [],
   "source": [
    "from bigram_pos_tagger import BigramTagger\n",
    "import pandas as pd"
   ]
  },
  {
   "cell_type": "markdown",
   "execution_count": null,
   "metadata": {},
   "outputs": [],
   "source": [
    "## Import corpus to tagger\n",
    "\n",
    "This bigram tagger use a corpus as a tagset reference. We will use them as part of tagset probability calcluation"
   ]
  },
  {
   "cell_type": "code",
   "execution_count": 2,
   "metadata": {},
   "outputs": [
    {
     "data": {
      "text/plain": "'mendiang/nn stephen/nnp hawking/nnp memiliki/vb perangkat/nn khusus/jj untuk/sc berkomunikasi/vb dengan/sc orang/nn lain/jj ./. alat/nn ini/pr digerakkan/vb oleh/in sensor/nn otot/nn pipi/nn yang/sc secara/vb menakjubkan/jj memungkinkan/vb hawking/nnp untuk/sc berbicara/vb ,/, menulis/vb dan/cc mengoperasikan/vb komputer/nn tablet/nn yang/sc terpasang/vb di/in kursi/nn rodanya/nn ./. \\n\\nhawking/nnp meninggal/vb dunia/vb pada/in usia/nn 76/cd tahun/nn pada/in rabu/nn (14-3)/nn waktu/nn setempat/jj ./. kepergian/nn hawking/nnp telah/md dikonfirmasi/vb oleh/in pihak/nn keluarga/nn ./. \\n\\nperlu/md diketahui/vb bahwa/sc hawking/nnp didiagnosis/vb penyakit/nn motor/nn neuron/nn (mnd)/nn atau/cc amyotrophic/nn lateral/nn sclerosis/nn (als)/nn sejak/sc usia/nn 21/cd tahun/nn ./. penyakit/nn ini/pr membatasi/vb pergerakannya/nn ,/, hingga/sc akhirnya/rb dia/prp harus/md selalu/rb duduk/vb di/in kursi/nn roda/nn untuk/sc beraktivitas/vb ./. tahun/nn 1985/cd ,/, hawking/nnp kehilangan/nn kemampuan/nn berbicara/vb usai/sc terkena/vb penyakit/nn pneumonia/nn saat/sc berkunjung/vb ke/in organisasi/nnp penelitian/nnp nuklir/nnp eropa/nnp (cern)/nnp di/in jenewa/nnp ,/, swiss/nnp ./. \\n\\ndengan/sc kondisi/nn fisik/nn yang/sc semakin/rb menurun/vb dan/cc tak/neg mampu/jj berbicara/vb ,/, hawking/nnp masih/md mampu/jj menulis/vb buku/nn ,/, memberikan/vb kuliah/nn hingga/sc berpidato/vb di/in panggung/nn dunia/nn ./. beberapa/cd tahun/nn usai/sc tak/neg bisa/md berbicara/vb ,/, dia/prp berkomunikasi/vb dengan/sc perangkat/nn bernama/vb \\'hand-held-clicker\\'/nn yang/sc membantunya/vb memilih/vb kata-kata/nn dan/cc memerintahkan/vb komputer/nn melalui/vb perangkat/nn yang/sc dipegang/vb di/in tangan/nn dan/cc ditekan/vb dengan/sc jari/nn ./. namun/cc seiring/nn kemampuan/nn otot/nn tangannya/nn yang/sc melemah/vb ,/, hawking/nnp tidak/neg lagi/md memakai/vb perangkat/nn ini/pr sejak/sc tahun/nn 2008/cd ./.\\n\\nseperti/sc dilansir/vb media/nn inggris/nnp ,/, metro.co.uk/nn ,/, rabu/nn (14-3-2018)/nn ,/, beberapa/cd tahun/nn terakhir/od ,/, hawking/nnp berkomunikasi/vb dengan/in satu/cd otot/nn pipi/nn yang/sc digerakkan/vb nya/prp untuk/in mengirim/vb sinyal/nn pada/in komputer/nn yang/sc terpasang/vb pada/in kursi/nn roda/nn nya/prp ,/, yang/sc juga/rb bergerak/vb otomatis/jj ./. \\n\\ndia/prp pernah/md menjelaskan/vb soal/md perangkat/nn komunikasi/nn nya/prp ini/pr via/vb situs/nn nya/prp ,/, hawking.org.uk/nn ./. dituturkan/vb hawking/nnp ,/, diri/vb nya/prp berkomunikasi/vb melalui/vb sebuah/cd sistem/nn berbasis/vb komputer/nn yang/sc memiliki/vb sensor/nn yang/sc mampu/jj mendeteksi/vb dan/sc menginterpretasi/vb gerakan/nn sangat/rb kecil/jj di/in bagian/nn pipi/nn nya/prp ./. \\n\\n\\nsistem/nn ini/pr merupakan/vb program/nn buatan/nn intel/nnp bernama/vb acat/nnp ,/, kependekan/nn dari/in assistive/nnp context-aware/nnp toolkit/nnp ./. sistem/nn ini/pr tertanam/vb pada/in komputer/nn tablet/nn yang/sc dipasang/vb pada/in lengan/nn kursi/nn roda/nn hawking/nnp dan/sc mendapat/vb energi/nn dari/in baterai/nn kursi/nn roda/nn tersebut/pr ./. sistem/nn itu/pr menampilkan/vb keyboard/nn pada/in layer/nn tablet/nn dan/sc sebuah/cd kursor/nn selalu/rb bergerak/vb otomatis/jj di/in atas/in keyboard/nn sesuai/jj deret/nn juga/rb kolom/nn ./. \\n\\n\"/” saya/prp bisa/md memilih/vb huruf/nn dengan/sc menggerakkan/vb pipi/nn saya/prp untuk/sc menghentikan/vb kursor/nn ./. pergerakan/nn pipi/nn saya/prp terdeteksi/vb oleh/in perangkat/nn infrared/nn yang/sc terpasang/vb pada/in kacamata/nn saya/prp ,/, \"/” tulis/vb hawking/nnp menjelaskan/vb ./.\\n\\nsistem/nn acat/nnp ini/pr juga/rb mencakup/vb algoritma/nn prediksi/nn kata/nn dan/cc telah/md dilatih/vb membaca/vb buku/nn serta/in kuliah/nn hawking/nnp ./. jadi/jj hawking/nnp tinggal/vb mengetik/vb beberapa/cd huruf/nn pertama/nn untuk/sc memilih/vb kata/nn yang/sc akan/md digunakan/vb nya/prp ./. setelah/sc dia/prp selesai/jj mengetik/jj satu/cd kalimat/nn ,/, hawking/nnp akan/md mengirimkannya/vb kepada/in perangkat/in speech/nnp synthesizer/nnp dari/in speech/nnp plus/nnp untuk/sc diubah/vb ke/in suara/nn ./. \\n\\n\"/” ini/pr yang/sc terbaik/jj yang/sc pernah/md saya/prp dengar/vb ,/, meskipun/sc ini/pr memberikan/vb saya/prp aksen/nn yang/sc disebut/vb beragam/cd sebagai/in (aksen)/nn skandinavia/nnp ,/, amerika/nnp atau/cc skotlandia/nnp ,/, \"/” ucap/vb hawking/nnp dalam/in tulisan/nn nya/prp ./.\\n\\nmelalui/vb sistem/nn acat/nnp ini/pr ,/, hawking/nnp bisa/md mengoperasikan/vb seluruh/cd komputer/nn ./. dia/prp bisa/md memeriksa/vb email/nn ,/, berselancar/vb di/in internet/nn ,/, atau/cc menulis/vb bahan/nn kuliah/nn nya/prp ./. yang/sc terbaru/jj ,/, hawking/nnp bisa/md bermain/vb skype/nnp dengan/sc webcam/nnp yang/sc terpasang/vb pada/in komputer/nn nya/prp ./. saat/sc memberi/vb kuliah/nn ,/, hawking/nnp biasanya/rb mengetikkan/vb kata-katanya/nn lebih/jj awal/jj lalu/cc menyimpannya/vb dalam/in komputer/nn ./. dia/prp kemudian/cc menggunakan/vb software/nnp bernama/vb \\'/\\' lecture/nnp manager/nnp \\'/’ untuk/sc mengirimkan/vb naskah/nn kuliah/nn nya/prp ke/in speech/nnp synthesizer/nnp untuk/sc disampaikan/vb kepada/sc mahasiswa/nn nya/prp via/vb suara/nn ./. \\n\\n\"/” saya/prp selalu/rb melihat-lihat/vb bantuan/nn teknologi/nn baru/jj dan/cc saya/prp telah/md bereksperimen/vb dengan/sc interface/nnp yang/sc dikendalikan/vb otak/nn dan/cc pelacakan/nn mata/nn untuk/sc berkomunikasi/vb dengan/sc komputer/nn ./. namun/cc meskipun/sc sistem/nn itu/pr berfungsi/vb baik/jj untuk/sc orang/nn lain/jj ,/, saya/prp masih/md merasa/vb perangkat/nn saya/prp yang/sc dioperasikan/vb pipi/nn jauh/jj lebih./jj mudah/jj dan/cc tidak/neg terlalu/jj melelahkan/vb untuk/sc digunakan/vb ,/, \"/” tandasnya/nn ./.\\n\\naku/prp bernama/vb hawking/nnp ./. dia/prp jalan/vb di/in suatu/cd tempat/nn di/in jalan/nn ./.'"
     },
     "execution_count": 2,
     "metadata": {},
     "output_type": "execute_result"
    }
   ],
   "source": [
    "big_tag = BigramTagger(\"corpus_completed.dat\")\n",
    "big_tag.corpus"
   ]
  },
  {
   "cell_type": "markdown",
   "execution_count": null,
   "metadata": {},
   "outputs": [],
   "source": [
    "## Example test 1\n",
    "\n",
    "Below a sample of example sentences that we want to tag. As we can see, tagger can recognize the word 'berjalan'"
   ]
  },
  {
   "cell_type": "code",
   "execution_count": 3,
   "metadata": {},
   "outputs": [
    {
     "data": {
      "text/plain": "'aku/PRP dan/CC hawking/NNP memiliki/VB kursi/NN roda/NN yang/SC menakjubkan/JJ dan/CC dia/PRP berjalan/VB di/IN jalan/NN yang/SC benar/VB ./. '"
     },
     "execution_count": 3,
     "metadata": {},
     "output_type": "execute_result"
    }
   ],
   "source": [
    "tagged_sentences = big_tag.bigramSentencesTagger(\"Aku dan hawking memiliki kursi roda yang menakjubkan dan dia berjalan di jalan yang benar .\")\n",
    "tagged_sentences"
   ]
  },
  {
   "cell_type": "markdown",
   "execution_count": null,
   "metadata": {},
   "outputs": [],
   "source": [
    "Here is the probability from the last test."
   ]
  },
  {
   "cell_type": "code",
   "execution_count": 4,
   "metadata": {},
   "outputs": [
    {
     "data": {
      "text/html": "<div>\n<style scoped>\n    .dataframe tbody tr th:only-of-type {\n        vertical-align: middle;\n    }\n\n    .dataframe tbody tr th {\n        vertical-align: top;\n    }\n\n    .dataframe thead th {\n        text-align: right;\n    }\n</style>\n<table border=\"1\" class=\"dataframe\">\n  <thead>\n    <tr style=\"text-align: right;\">\n      <th></th>\n      <th>aku</th>\n      <th>dan</th>\n      <th>hawking</th>\n      <th>memiliki</th>\n      <th>kursi</th>\n      <th>roda</th>\n      <th>yang</th>\n      <th>menakjubkan</th>\n      <th>dia</th>\n      <th>berjalan</th>\n      <th>di</th>\n      <th>jalan</th>\n      <th>benar</th>\n      <th>.</th>\n    </tr>\n  </thead>\n  <tbody>\n    <tr>\n      <th>0</th>\n      <td>(PRP, 0.0016750418760469012)</td>\n      <td>(CC, 0.06400012)</td>\n      <td>(NNP, 0.026143857516339866)</td>\n      <td>(VB, 0.0029880186741363217)</td>\n      <td>(NN, 0.012063853968253968)</td>\n      <td>(NN, 0.007466946666666668)</td>\n      <td>(SC, 0.05649138140350876)</td>\n      <td>(JJ, 0.0021053157894736843)</td>\n      <td>(PRP, 0.015555622222222223)</td>\n      <td>(VB, 2.3333333333333333e-07)</td>\n      <td>(IN, 0.016750418760469014)</td>\n      <td>(NN, 0.004685387387387388)</td>\n      <td>(VB, 5.614035087719298e-07)</td>\n      <td>(., 0.051926298157453935)</td>\n    </tr>\n    <tr>\n      <th>1</th>\n      <td>(NN, 0.0)</td>\n      <td>(SC, 0.00631590947368421)</td>\n      <td>(VB, 4e-07)</td>\n      <td>(NNP, 2.156862745098039e-07)</td>\n      <td>(IN, 1.9047619047619045e-07)</td>\n      <td>(SC, 1.533333333333333e-07)</td>\n      <td>(NN, 2.8e-07)</td>\n      <td>(VB, 5.614035087719298e-07)</td>\n      <td>(VB, 4e-07)</td>\n      <td>(MD, 2e-07)</td>\n      <td>(NN, 0.0)</td>\n      <td>(VB, 0.0002574272844272844)</td>\n      <td>(NN, 1.7543859649122805e-07)</td>\n      <td>(NN, 0.0)</td>\n    </tr>\n    <tr>\n      <th>2</th>\n      <td>(NNP, 0.0)</td>\n      <td>(VB, 2e-07)</td>\n      <td>(NN, 2e-07)</td>\n      <td>(SC, 1.3725490196078432e-07)</td>\n      <td>(SC, 9.523809523809523e-08)</td>\n      <td>(., 1e-07)</td>\n      <td>(., 1e-07)</td>\n      <td>(NN, 1.7543859649122805e-07)</td>\n      <td>(NN, 2e-07)</td>\n      <td>(., 1.6666666666666665e-07)</td>\n      <td>(NNP, 0.0)</td>\n      <td>(NNP, 1.6216216216216215e-07)</td>\n      <td>(NNP, 5.2631578947368416e-08)</td>\n      <td>(NNP, 0.0)</td>\n    </tr>\n    <tr>\n      <th>3</th>\n      <td>(VB, 0.0)</td>\n      <td>(JJ, 1.6e-07)</td>\n      <td>(NEG, 1.3333333333333334e-07)</td>\n      <td>(,, 1.176470588235294e-07)</td>\n      <td>(NNP, 7.619047619047619e-08)</td>\n      <td>(PRP, 8.666666666666666e-08)</td>\n      <td>(PRP, 8.666666666666666e-08)</td>\n      <td>(NNP, 5.2631578947368416e-08)</td>\n      <td>(NEG, 1.3333333333333334e-07)</td>\n      <td>(,, 1e-07)</td>\n      <td>(VB, 0.0)</td>\n      <td>(IN, 5.4054054054054056e-08)</td>\n      <td>(JJ, 5.2631578947368416e-08)</td>\n      <td>(VB, 0.0)</td>\n    </tr>\n    <tr>\n      <th>4</th>\n      <td>(JJ, 0.0)</td>\n      <td>(., 1.2e-07)</td>\n      <td>(SC, 6.666666666666667e-08)</td>\n      <td>(MD, 9.80392156862745e-08)</td>\n      <td>(,, 5.714285714285714e-08)</td>\n      <td>(NNP, 6e-08)</td>\n      <td>(NNP, 6e-08)</td>\n      <td>(RB, 5.2631578947368416e-08)</td>\n      <td>(NNP, 6.666666666666667e-08)</td>\n      <td>(SC, 6.666666666666667e-08)</td>\n      <td>(JJ, 0.0)</td>\n      <td>(CD, 5.4054054054054056e-08)</td>\n      <td>(RB, 5.2631578947368416e-08)</td>\n      <td>(JJ, 0.0)</td>\n    </tr>\n    <tr>\n      <th>5</th>\n      <td>(SC, 0.0)</td>\n      <td>(IN, 8e-08)</td>\n      <td>(MD, 6.666666666666667e-08)</td>\n      <td>(., 7.843137254901961e-08)</td>\n      <td>(VB, 4.7619047619047613e-08)</td>\n      <td>(JJ, 5.3333333333333334e-08)</td>\n      <td>(JJ, 5.3333333333333334e-08)</td>\n      <td>(MD, 3.508771929824561e-08)</td>\n      <td>(SC, 6.666666666666667e-08)</td>\n      <td>(IN, 6.666666666666667e-08)</td>\n      <td>(SC, 0.0)</td>\n      <td>(JJ, 0.0)</td>\n      <td>(MD, 3.508771929824561e-08)</td>\n      <td>(SC, 0.0)</td>\n    </tr>\n    <tr>\n      <th>6</th>\n      <td>(., 0.0)</td>\n      <td>(,, 8e-08)</td>\n      <td>(PRP, 6.666666666666667e-08)</td>\n      <td>(IN, 5.88235294117647e-08)</td>\n      <td>(JJ, 3.8095238095238096e-08)</td>\n      <td>(PR, 5.3333333333333334e-08)</td>\n      <td>(PR, 5.3333333333333334e-08)</td>\n      <td>(PR, 1.7543859649122805e-08)</td>\n      <td>(MD, 6.666666666666667e-08)</td>\n      <td>(NN, 3.3333333333333334e-08)</td>\n      <td>(., 0.0)</td>\n      <td>(SC, 0.0)</td>\n      <td>(PR, 1.7543859649122805e-08)</td>\n      <td>(PR, 0.0)</td>\n    </tr>\n    <tr>\n      <th>7</th>\n      <td>(PR, 0.0)</td>\n      <td>(NN, 4e-08)</td>\n      <td>(JJ, 0.0)</td>\n      <td>(PR, 3.9215686274509804e-08)</td>\n      <td>(CD, 3.8095238095238096e-08)</td>\n      <td>(,, 5.3333333333333334e-08)</td>\n      <td>(,, 5.3333333333333334e-08)</td>\n      <td>(CD, 1.7543859649122805e-08)</td>\n      <td>(JJ, 0.0)</td>\n      <td>(JJ, 3.3333333333333334e-08)</td>\n      <td>(PR, 0.0)</td>\n      <td>(., 0.0)</td>\n      <td>(CD, 1.7543859649122805e-08)</td>\n      <td>(IN, 0.0)</td>\n    </tr>\n    <tr>\n      <th>8</th>\n      <td>(IN, 0.0)</td>\n      <td>(NNP, 4e-08)</td>\n      <td>(., 0.0)</td>\n      <td>(NN, 1.9607843137254902e-08)</td>\n      <td>(PRP, 3.8095238095238096e-08)</td>\n      <td>(IN, 4.666666666666667e-08)</td>\n      <td>(IN, 4.666666666666667e-08)</td>\n      <td>(PRP, 1.7543859649122805e-08)</td>\n      <td>(., 0.0)</td>\n      <td>(PR, 3.3333333333333334e-08)</td>\n      <td>(,, 0.0)</td>\n      <td>(PR, 0.0)</td>\n      <td>(PRP, 1.7543859649122805e-08)</td>\n      <td>(,, 0.0)</td>\n    </tr>\n    <tr>\n      <th>9</th>\n      <td>(,, 0.0)</td>\n      <td>(CD, 4e-08)</td>\n      <td>(PR, 0.0)</td>\n      <td>(CC, 1.9607843137254902e-08)</td>\n      <td>(., 1.9047619047619048e-08)</td>\n      <td>(CC, 3.3333333333333334e-08)</td>\n      <td>(CC, 3.3333333333333334e-08)</td>\n      <td>(NEG, 1.7543859649122805e-08)</td>\n      <td>(PR, 0.0)</td>\n      <td>(CC, 3.3333333333333334e-08)</td>\n      <td>(CC, 0.0)</td>\n      <td>(,, 0.0)</td>\n      <td>(NEG, 1.7543859649122805e-08)</td>\n      <td>(CC, 0.0)</td>\n    </tr>\n    <tr>\n      <th>10</th>\n      <td>(CC, 0.0)</td>\n      <td>(PR, 0.0)</td>\n      <td>(IN, 0.0)</td>\n      <td>(RB, 1.9607843137254902e-08)</td>\n      <td>(CC, 1.9047619047619048e-08)</td>\n      <td>(VB, 2.6666666666666667e-08)</td>\n      <td>(VB, 2.6666666666666667e-08)</td>\n      <td>(SC, 0.0)</td>\n      <td>(IN, 0.0)</td>\n      <td>(RB, 3.3333333333333334e-08)</td>\n      <td>(CD, 0.0)</td>\n      <td>(CC, 0.0)</td>\n      <td>(SC, 0.0)</td>\n      <td>(CD, 0.0)</td>\n    </tr>\n    <tr>\n      <th>11</th>\n      <td>(CD, 0.0)</td>\n      <td>(MD, 0.0)</td>\n      <td>(,, 0.0)</td>\n      <td>(NEG, 1.9607843137254902e-08)</td>\n      <td>(MD, 9.523809523809524e-09)</td>\n      <td>(CD, 2.6666666666666667e-08)</td>\n      <td>(CD, 2.6666666666666667e-08)</td>\n      <td>(., 0.0)</td>\n      <td>(,, 0.0)</td>\n      <td>(NNP, 0.0)</td>\n      <td>(MD, 0.0)</td>\n      <td>(MD, 0.0)</td>\n      <td>(., 0.0)</td>\n      <td>(MD, 0.0)</td>\n    </tr>\n    <tr>\n      <th>12</th>\n      <td>(MD, 0.0)</td>\n      <td>(RB, 0.0)</td>\n      <td>(CC, 0.0)</td>\n      <td>(’, 1.9607843137254902e-08)</td>\n      <td>(', 9.523809523809524e-09)</td>\n      <td>(RB, 2e-08)</td>\n      <td>(RB, 2e-08)</td>\n      <td>(IN, 0.0)</td>\n      <td>(CC, 0.0)</td>\n      <td>(CD, 0.0)</td>\n      <td>(RB, 0.0)</td>\n      <td>(RB, 0.0)</td>\n      <td>(IN, 0.0)</td>\n      <td>(RB, 0.0)</td>\n    </tr>\n    <tr>\n      <th>13</th>\n      <td>(RB, 0.0)</td>\n      <td>(PRP, 0.0)</td>\n      <td>(CD, 0.0)</td>\n      <td>(JJ, 0.0)</td>\n      <td>(PR, 0.0)</td>\n      <td>(OD, 6.666666666666667e-09)</td>\n      <td>(OD, 6.666666666666667e-09)</td>\n      <td>(,, 0.0)</td>\n      <td>(CD, 0.0)</td>\n      <td>(PRP, 0.0)</td>\n      <td>(PRP, 0.0)</td>\n      <td>(PRP, 0.0)</td>\n      <td>(,, 0.0)</td>\n      <td>(PRP, 0.0)</td>\n    </tr>\n    <tr>\n      <th>14</th>\n      <td>(NEG, 0.0)</td>\n      <td>(NEG, 0.0)</td>\n      <td>(RB, 0.0)</td>\n      <td>(CD, 0.0)</td>\n      <td>(RB, 0.0)</td>\n      <td>(MD, 0.0)</td>\n      <td>(MD, 0.0)</td>\n      <td>(CC, 0.0)</td>\n      <td>(RB, 0.0)</td>\n      <td>(NEG, 0.0)</td>\n      <td>(NEG, 0.0)</td>\n      <td>(NEG, 0.0)</td>\n      <td>(CC, 0.0)</td>\n      <td>(NEG, 0.0)</td>\n    </tr>\n    <tr>\n      <th>15</th>\n      <td>(OD, 0.0)</td>\n      <td>(OD, 0.0)</td>\n      <td>(OD, 0.0)</td>\n      <td>(PRP, 0.0)</td>\n      <td>(NEG, 0.0)</td>\n      <td>(NEG, 0.0)</td>\n      <td>(NEG, 0.0)</td>\n      <td>(OD, 0.0)</td>\n      <td>(OD, 0.0)</td>\n      <td>(OD, 0.0)</td>\n      <td>(OD, 0.0)</td>\n      <td>(OD, 0.0)</td>\n      <td>(OD, 0.0)</td>\n      <td>(OD, 0.0)</td>\n    </tr>\n    <tr>\n      <th>16</th>\n      <td>(”, 0.0)</td>\n      <td>(”, 0.0)</td>\n      <td>(”, 0.0)</td>\n      <td>(OD, 0.0)</td>\n      <td>(OD, 0.0)</td>\n      <td>(”, 0.0)</td>\n      <td>(”, 0.0)</td>\n      <td>(”, 0.0)</td>\n      <td>(”, 0.0)</td>\n      <td>(”, 0.0)</td>\n      <td>(”, 0.0)</td>\n      <td>(”, 0.0)</td>\n      <td>(”, 0.0)</td>\n      <td>(”, 0.0)</td>\n    </tr>\n    <tr>\n      <th>17</th>\n      <td>(', 0.0)</td>\n      <td>(', 0.0)</td>\n      <td>(', 0.0)</td>\n      <td>(”, 0.0)</td>\n      <td>(”, 0.0)</td>\n      <td>(', 0.0)</td>\n      <td>(', 0.0)</td>\n      <td>(', 0.0)</td>\n      <td>(', 0.0)</td>\n      <td>(', 0.0)</td>\n      <td>(', 0.0)</td>\n      <td>(', 0.0)</td>\n      <td>(', 0.0)</td>\n      <td>(', 0.0)</td>\n    </tr>\n    <tr>\n      <th>18</th>\n      <td>(’, 0.0)</td>\n      <td>(’, 0.0)</td>\n      <td>(’, 0.0)</td>\n      <td>(', 0.0)</td>\n      <td>(’, 0.0)</td>\n      <td>(’, 0.0)</td>\n      <td>(’, 0.0)</td>\n      <td>(’, 0.0)</td>\n      <td>(’, 0.0)</td>\n      <td>(’, 0.0)</td>\n      <td>(’, 0.0)</td>\n      <td>(’, 0.0)</td>\n      <td>(’, 0.0)</td>\n      <td>(’, 0.0)</td>\n    </tr>\n  </tbody>\n</table>\n</div>",
      "text/plain": "                             aku                        dan  \\\n0   (PRP, 0.0016750418760469012)           (CC, 0.06400012)   \n1                      (NN, 0.0)  (SC, 0.00631590947368421)   \n2                     (NNP, 0.0)                (VB, 2e-07)   \n3                      (VB, 0.0)              (JJ, 1.6e-07)   \n4                      (JJ, 0.0)               (., 1.2e-07)   \n5                      (SC, 0.0)                (IN, 8e-08)   \n6                       (., 0.0)                 (,, 8e-08)   \n7                      (PR, 0.0)                (NN, 4e-08)   \n8                      (IN, 0.0)               (NNP, 4e-08)   \n9                       (,, 0.0)                (CD, 4e-08)   \n10                     (CC, 0.0)                  (PR, 0.0)   \n11                     (CD, 0.0)                  (MD, 0.0)   \n12                     (MD, 0.0)                  (RB, 0.0)   \n13                     (RB, 0.0)                 (PRP, 0.0)   \n14                    (NEG, 0.0)                 (NEG, 0.0)   \n15                     (OD, 0.0)                  (OD, 0.0)   \n16                      (”, 0.0)                   (”, 0.0)   \n17                      (', 0.0)                   (', 0.0)   \n18                      (’, 0.0)                   (’, 0.0)   \n\n                          hawking                       memiliki  \\\n0     (NNP, 0.026143857516339866)    (VB, 0.0029880186741363217)   \n1                     (VB, 4e-07)   (NNP, 2.156862745098039e-07)   \n2                     (NN, 2e-07)   (SC, 1.3725490196078432e-07)   \n3   (NEG, 1.3333333333333334e-07)     (,, 1.176470588235294e-07)   \n4     (SC, 6.666666666666667e-08)     (MD, 9.80392156862745e-08)   \n5     (MD, 6.666666666666667e-08)     (., 7.843137254901961e-08)   \n6    (PRP, 6.666666666666667e-08)     (IN, 5.88235294117647e-08)   \n7                       (JJ, 0.0)   (PR, 3.9215686274509804e-08)   \n8                        (., 0.0)   (NN, 1.9607843137254902e-08)   \n9                       (PR, 0.0)   (CC, 1.9607843137254902e-08)   \n10                      (IN, 0.0)   (RB, 1.9607843137254902e-08)   \n11                       (,, 0.0)  (NEG, 1.9607843137254902e-08)   \n12                      (CC, 0.0)    (’, 1.9607843137254902e-08)   \n13                      (CD, 0.0)                      (JJ, 0.0)   \n14                      (RB, 0.0)                      (CD, 0.0)   \n15                      (OD, 0.0)                     (PRP, 0.0)   \n16                       (”, 0.0)                      (OD, 0.0)   \n17                       (', 0.0)                       (”, 0.0)   \n18                       (’, 0.0)                       (', 0.0)   \n\n                            kursi                          roda  \\\n0      (NN, 0.012063853968253968)    (NN, 0.007466946666666668)   \n1    (IN, 1.9047619047619045e-07)   (SC, 1.533333333333333e-07)   \n2     (SC, 9.523809523809523e-08)                    (., 1e-07)   \n3    (NNP, 7.619047619047619e-08)  (PRP, 8.666666666666666e-08)   \n4      (,, 5.714285714285714e-08)                  (NNP, 6e-08)   \n5    (VB, 4.7619047619047613e-08)  (JJ, 5.3333333333333334e-08)   \n6    (JJ, 3.8095238095238096e-08)  (PR, 5.3333333333333334e-08)   \n7    (CD, 3.8095238095238096e-08)   (,, 5.3333333333333334e-08)   \n8   (PRP, 3.8095238095238096e-08)   (IN, 4.666666666666667e-08)   \n9     (., 1.9047619047619048e-08)  (CC, 3.3333333333333334e-08)   \n10   (CC, 1.9047619047619048e-08)  (VB, 2.6666666666666667e-08)   \n11    (MD, 9.523809523809524e-09)  (CD, 2.6666666666666667e-08)   \n12     (', 9.523809523809524e-09)                   (RB, 2e-08)   \n13                      (PR, 0.0)   (OD, 6.666666666666667e-09)   \n14                      (RB, 0.0)                     (MD, 0.0)   \n15                     (NEG, 0.0)                    (NEG, 0.0)   \n16                      (OD, 0.0)                      (”, 0.0)   \n17                       (”, 0.0)                      (', 0.0)   \n18                       (’, 0.0)                      (’, 0.0)   \n\n                            yang                    menakjubkan  \\\n0      (SC, 0.05649138140350876)    (JJ, 0.0021053157894736843)   \n1                  (NN, 2.8e-07)    (VB, 5.614035087719298e-07)   \n2                     (., 1e-07)   (NN, 1.7543859649122805e-07)   \n3   (PRP, 8.666666666666666e-08)  (NNP, 5.2631578947368416e-08)   \n4                   (NNP, 6e-08)   (RB, 5.2631578947368416e-08)   \n5   (JJ, 5.3333333333333334e-08)    (MD, 3.508771929824561e-08)   \n6   (PR, 5.3333333333333334e-08)   (PR, 1.7543859649122805e-08)   \n7    (,, 5.3333333333333334e-08)   (CD, 1.7543859649122805e-08)   \n8    (IN, 4.666666666666667e-08)  (PRP, 1.7543859649122805e-08)   \n9   (CC, 3.3333333333333334e-08)  (NEG, 1.7543859649122805e-08)   \n10  (VB, 2.6666666666666667e-08)                      (SC, 0.0)   \n11  (CD, 2.6666666666666667e-08)                       (., 0.0)   \n12                   (RB, 2e-08)                      (IN, 0.0)   \n13   (OD, 6.666666666666667e-09)                       (,, 0.0)   \n14                     (MD, 0.0)                      (CC, 0.0)   \n15                    (NEG, 0.0)                      (OD, 0.0)   \n16                      (”, 0.0)                       (”, 0.0)   \n17                      (', 0.0)                       (', 0.0)   \n18                      (’, 0.0)                       (’, 0.0)   \n\n                              dia                      berjalan  \\\n0     (PRP, 0.015555622222222223)  (VB, 2.3333333333333333e-07)   \n1                     (VB, 4e-07)                   (MD, 2e-07)   \n2                     (NN, 2e-07)   (., 1.6666666666666665e-07)   \n3   (NEG, 1.3333333333333334e-07)                    (,, 1e-07)   \n4    (NNP, 6.666666666666667e-08)   (SC, 6.666666666666667e-08)   \n5     (SC, 6.666666666666667e-08)   (IN, 6.666666666666667e-08)   \n6     (MD, 6.666666666666667e-08)  (NN, 3.3333333333333334e-08)   \n7                       (JJ, 0.0)  (JJ, 3.3333333333333334e-08)   \n8                        (., 0.0)  (PR, 3.3333333333333334e-08)   \n9                       (PR, 0.0)  (CC, 3.3333333333333334e-08)   \n10                      (IN, 0.0)  (RB, 3.3333333333333334e-08)   \n11                       (,, 0.0)                    (NNP, 0.0)   \n12                      (CC, 0.0)                     (CD, 0.0)   \n13                      (CD, 0.0)                    (PRP, 0.0)   \n14                      (RB, 0.0)                    (NEG, 0.0)   \n15                      (OD, 0.0)                     (OD, 0.0)   \n16                       (”, 0.0)                      (”, 0.0)   \n17                       (', 0.0)                      (', 0.0)   \n18                       (’, 0.0)                      (’, 0.0)   \n\n                            di                          jalan  \\\n0   (IN, 0.016750418760469014)     (NN, 0.004685387387387388)   \n1                    (NN, 0.0)    (VB, 0.0002574272844272844)   \n2                   (NNP, 0.0)  (NNP, 1.6216216216216215e-07)   \n3                    (VB, 0.0)   (IN, 5.4054054054054056e-08)   \n4                    (JJ, 0.0)   (CD, 5.4054054054054056e-08)   \n5                    (SC, 0.0)                      (JJ, 0.0)   \n6                     (., 0.0)                      (SC, 0.0)   \n7                    (PR, 0.0)                       (., 0.0)   \n8                     (,, 0.0)                      (PR, 0.0)   \n9                    (CC, 0.0)                       (,, 0.0)   \n10                   (CD, 0.0)                      (CC, 0.0)   \n11                   (MD, 0.0)                      (MD, 0.0)   \n12                   (RB, 0.0)                      (RB, 0.0)   \n13                  (PRP, 0.0)                     (PRP, 0.0)   \n14                  (NEG, 0.0)                     (NEG, 0.0)   \n15                   (OD, 0.0)                      (OD, 0.0)   \n16                    (”, 0.0)                       (”, 0.0)   \n17                    (', 0.0)                       (', 0.0)   \n18                    (’, 0.0)                       (’, 0.0)   \n\n                            benar                          .  \n0     (VB, 5.614035087719298e-07)  (., 0.051926298157453935)  \n1    (NN, 1.7543859649122805e-07)                  (NN, 0.0)  \n2   (NNP, 5.2631578947368416e-08)                 (NNP, 0.0)  \n3    (JJ, 5.2631578947368416e-08)                  (VB, 0.0)  \n4    (RB, 5.2631578947368416e-08)                  (JJ, 0.0)  \n5     (MD, 3.508771929824561e-08)                  (SC, 0.0)  \n6    (PR, 1.7543859649122805e-08)                  (PR, 0.0)  \n7    (CD, 1.7543859649122805e-08)                  (IN, 0.0)  \n8   (PRP, 1.7543859649122805e-08)                   (,, 0.0)  \n9   (NEG, 1.7543859649122805e-08)                  (CC, 0.0)  \n10                      (SC, 0.0)                  (CD, 0.0)  \n11                       (., 0.0)                  (MD, 0.0)  \n12                      (IN, 0.0)                  (RB, 0.0)  \n13                       (,, 0.0)                 (PRP, 0.0)  \n14                      (CC, 0.0)                 (NEG, 0.0)  \n15                      (OD, 0.0)                  (OD, 0.0)  \n16                       (”, 0.0)                   (”, 0.0)  \n17                       (', 0.0)                   (', 0.0)  \n18                       (’, 0.0)                   (’, 0.0)  "
     },
     "execution_count": 4,
     "metadata": {},
     "output_type": "execute_result"
    }
   ],
   "source": [
    "prob_data = pd.DataFrame.from_dict(big_tag.tagger_prob_list)\n",
    "prob_data"
   ]
  },
  {
   "cell_type": "markdown",
   "execution_count": null,
   "metadata": {},
   "outputs": [],
   "source": [
    "# Example test 2\n",
    "\n",
    "Below a sample of sentences that we want to tag. As we can see, tagger can recognize the word 'facebook' too even they didnt available in corpus. Tagger recognize word 'facebook' by looking the tag before word 'facebook' ('VB') and calculate the next tag probability using previous tag."
   ]
  },
  {
   "cell_type": "code",
   "execution_count": 5,
   "metadata": {},
   "outputs": [
    {
     "data": {
      "text/plain": "'hawking/NNP bermain/VB facebook/NN ./. '"
     },
     "execution_count": 5,
     "metadata": {},
     "output_type": "execute_result"
    }
   ],
   "source": [
    "tagged_sentences_2 = big_tag.bigramSentencesTagger(\"Hawking bermain Facebook .\")\n",
    "tagged_sentences_2"
   ]
  },
  {
   "cell_type": "markdown",
   "execution_count": null,
   "metadata": {},
   "outputs": [],
   "source": [
    "Here is the probability table from the last test."
   ]
  },
  {
   "cell_type": "code",
   "execution_count": 6,
   "metadata": {},
   "outputs": [
    {
     "data": {
      "text/html": "<div>\n<style scoped>\n    .dataframe tbody tr th:only-of-type {\n        vertical-align: middle;\n    }\n\n    .dataframe tbody tr th {\n        vertical-align: top;\n    }\n\n    .dataframe thead th {\n        text-align: right;\n    }\n</style>\n<table border=\"1\" class=\"dataframe\">\n  <thead>\n    <tr style=\"text-align: right;\">\n      <th></th>\n      <th>hawking</th>\n      <th>bermain</th>\n      <th>facebook</th>\n      <th>.</th>\n    </tr>\n  </thead>\n  <tbody>\n    <tr>\n      <th>0</th>\n      <td>(NNP, 0.03350083752093802)</td>\n      <td>(VB, 0.0014940877684407096)</td>\n      <td>(NN, 3.619047619047619e-07)</td>\n      <td>(., 0.051926298157453935)</td>\n    </tr>\n    <tr>\n      <th>1</th>\n      <td>(NN, 0.0)</td>\n      <td>(NNP, 2.156862745098039e-07)</td>\n      <td>(IN, 1.9047619047619045e-07)</td>\n      <td>(NN, 0.0)</td>\n    </tr>\n    <tr>\n      <th>2</th>\n      <td>(VB, 0.0)</td>\n      <td>(SC, 1.3725490196078432e-07)</td>\n      <td>(SC, 9.523809523809523e-08)</td>\n      <td>(NNP, 0.0)</td>\n    </tr>\n    <tr>\n      <th>3</th>\n      <td>(JJ, 0.0)</td>\n      <td>(,, 1.176470588235294e-07)</td>\n      <td>(NNP, 7.619047619047619e-08)</td>\n      <td>(VB, 0.0)</td>\n    </tr>\n    <tr>\n      <th>4</th>\n      <td>(SC, 0.0)</td>\n      <td>(MD, 9.80392156862745e-08)</td>\n      <td>(,, 5.714285714285714e-08)</td>\n      <td>(JJ, 0.0)</td>\n    </tr>\n    <tr>\n      <th>5</th>\n      <td>(., 0.0)</td>\n      <td>(., 7.843137254901961e-08)</td>\n      <td>(VB, 4.7619047619047613e-08)</td>\n      <td>(SC, 0.0)</td>\n    </tr>\n    <tr>\n      <th>6</th>\n      <td>(PR, 0.0)</td>\n      <td>(IN, 5.88235294117647e-08)</td>\n      <td>(JJ, 3.8095238095238096e-08)</td>\n      <td>(PR, 0.0)</td>\n    </tr>\n    <tr>\n      <th>7</th>\n      <td>(IN, 0.0)</td>\n      <td>(PR, 3.9215686274509804e-08)</td>\n      <td>(CD, 3.8095238095238096e-08)</td>\n      <td>(IN, 0.0)</td>\n    </tr>\n    <tr>\n      <th>8</th>\n      <td>(,, 0.0)</td>\n      <td>(NN, 1.9607843137254902e-08)</td>\n      <td>(PRP, 3.8095238095238096e-08)</td>\n      <td>(,, 0.0)</td>\n    </tr>\n    <tr>\n      <th>9</th>\n      <td>(CC, 0.0)</td>\n      <td>(CC, 1.9607843137254902e-08)</td>\n      <td>(., 1.9047619047619048e-08)</td>\n      <td>(CC, 0.0)</td>\n    </tr>\n    <tr>\n      <th>10</th>\n      <td>(CD, 0.0)</td>\n      <td>(RB, 1.9607843137254902e-08)</td>\n      <td>(CC, 1.9047619047619048e-08)</td>\n      <td>(CD, 0.0)</td>\n    </tr>\n    <tr>\n      <th>11</th>\n      <td>(MD, 0.0)</td>\n      <td>(NEG, 1.9607843137254902e-08)</td>\n      <td>(MD, 9.523809523809524e-09)</td>\n      <td>(MD, 0.0)</td>\n    </tr>\n    <tr>\n      <th>12</th>\n      <td>(RB, 0.0)</td>\n      <td>(’, 1.9607843137254902e-08)</td>\n      <td>(', 9.523809523809524e-09)</td>\n      <td>(RB, 0.0)</td>\n    </tr>\n    <tr>\n      <th>13</th>\n      <td>(PRP, 0.0)</td>\n      <td>(JJ, 0.0)</td>\n      <td>(PR, 0.0)</td>\n      <td>(PRP, 0.0)</td>\n    </tr>\n    <tr>\n      <th>14</th>\n      <td>(NEG, 0.0)</td>\n      <td>(CD, 0.0)</td>\n      <td>(RB, 0.0)</td>\n      <td>(NEG, 0.0)</td>\n    </tr>\n    <tr>\n      <th>15</th>\n      <td>(OD, 0.0)</td>\n      <td>(PRP, 0.0)</td>\n      <td>(NEG, 0.0)</td>\n      <td>(OD, 0.0)</td>\n    </tr>\n    <tr>\n      <th>16</th>\n      <td>(”, 0.0)</td>\n      <td>(OD, 0.0)</td>\n      <td>(OD, 0.0)</td>\n      <td>(”, 0.0)</td>\n    </tr>\n    <tr>\n      <th>17</th>\n      <td>(', 0.0)</td>\n      <td>(”, 0.0)</td>\n      <td>(”, 0.0)</td>\n      <td>(', 0.0)</td>\n    </tr>\n    <tr>\n      <th>18</th>\n      <td>(’, 0.0)</td>\n      <td>(', 0.0)</td>\n      <td>(’, 0.0)</td>\n      <td>(’, 0.0)</td>\n    </tr>\n  </tbody>\n</table>\n</div>",
      "text/plain": "                       hawking                        bermain  \\\n0   (NNP, 0.03350083752093802)    (VB, 0.0014940877684407096)   \n1                    (NN, 0.0)   (NNP, 2.156862745098039e-07)   \n2                    (VB, 0.0)   (SC, 1.3725490196078432e-07)   \n3                    (JJ, 0.0)     (,, 1.176470588235294e-07)   \n4                    (SC, 0.0)     (MD, 9.80392156862745e-08)   \n5                     (., 0.0)     (., 7.843137254901961e-08)   \n6                    (PR, 0.0)     (IN, 5.88235294117647e-08)   \n7                    (IN, 0.0)   (PR, 3.9215686274509804e-08)   \n8                     (,, 0.0)   (NN, 1.9607843137254902e-08)   \n9                    (CC, 0.0)   (CC, 1.9607843137254902e-08)   \n10                   (CD, 0.0)   (RB, 1.9607843137254902e-08)   \n11                   (MD, 0.0)  (NEG, 1.9607843137254902e-08)   \n12                   (RB, 0.0)    (’, 1.9607843137254902e-08)   \n13                  (PRP, 0.0)                      (JJ, 0.0)   \n14                  (NEG, 0.0)                      (CD, 0.0)   \n15                   (OD, 0.0)                     (PRP, 0.0)   \n16                    (”, 0.0)                      (OD, 0.0)   \n17                    (', 0.0)                       (”, 0.0)   \n18                    (’, 0.0)                       (', 0.0)   \n\n                         facebook                          .  \n0     (NN, 3.619047619047619e-07)  (., 0.051926298157453935)  \n1    (IN, 1.9047619047619045e-07)                  (NN, 0.0)  \n2     (SC, 9.523809523809523e-08)                 (NNP, 0.0)  \n3    (NNP, 7.619047619047619e-08)                  (VB, 0.0)  \n4      (,, 5.714285714285714e-08)                  (JJ, 0.0)  \n5    (VB, 4.7619047619047613e-08)                  (SC, 0.0)  \n6    (JJ, 3.8095238095238096e-08)                  (PR, 0.0)  \n7    (CD, 3.8095238095238096e-08)                  (IN, 0.0)  \n8   (PRP, 3.8095238095238096e-08)                   (,, 0.0)  \n9     (., 1.9047619047619048e-08)                  (CC, 0.0)  \n10   (CC, 1.9047619047619048e-08)                  (CD, 0.0)  \n11    (MD, 9.523809523809524e-09)                  (MD, 0.0)  \n12     (', 9.523809523809524e-09)                  (RB, 0.0)  \n13                      (PR, 0.0)                 (PRP, 0.0)  \n14                      (RB, 0.0)                 (NEG, 0.0)  \n15                     (NEG, 0.0)                  (OD, 0.0)  \n16                      (OD, 0.0)                   (”, 0.0)  \n17                       (”, 0.0)                   (', 0.0)  \n18                       (’, 0.0)                   (’, 0.0)  "
     },
     "execution_count": 6,
     "metadata": {},
     "output_type": "execute_result"
    }
   ],
   "source": [
    "prob_data_2 = pd.DataFrame.from_dict(big_tag.tagger_prob_list)\n",
    "prob_data_2"
   ]
  }
 ]
}